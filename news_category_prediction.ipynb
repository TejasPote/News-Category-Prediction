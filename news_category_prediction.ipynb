{
 "cells": [
  {
   "cell_type": "code",
   "execution_count": 1,
   "metadata": {},
   "outputs": [],
   "source": [
    "import numpy as np\n",
    "import pandas as pd"
   ]
  },
  {
   "cell_type": "code",
   "execution_count": 2,
   "metadata": {},
   "outputs": [],
   "source": [
    "dataset = pd.read_csv('traindata.csv')\n",
    "#Creating a list of sentences\n",
    "sentences = dataset.iloc[:,0:2].values\n"
   ]
  },
  {
   "cell_type": "code",
   "execution_count": 3,
   "metadata": {},
   "outputs": [
    {
     "name": "stdout",
     "output_type": "stream",
     "text": [
      "All the words are now free from punctuation marks!!!\n"
     ]
    }
   ],
   "source": [
    "#Removing punctuations from each word\n",
    "import string\n",
    "table = str.maketrans('', '', string.punctuation)\n",
    "bag_of_words = []\n",
    "for sentence in sentences[:, 1]:\n",
    "    words = [word.translate(table) for word in sentence.split()]\n",
    "    bag_of_words.append(words)\n",
    "print('All the words are now free from punctuation marks!!!')"
   ]
  },
  {
   "cell_type": "code",
   "execution_count": 4,
   "metadata": {},
   "outputs": [
    {
     "name": "stdout",
     "output_type": "stream",
     "text": [
      "All the words have been converted to lower case!!!\n"
     ]
    }
   ],
   "source": [
    "#Coverting all the words to lower case\n",
    "bag_of_words = [[word.lower() for word in example] for example in bag_of_words]\n",
    "print(\"All the words have been converted to lower case!!!\")"
   ]
  },
  {
   "cell_type": "code",
   "execution_count": 5,
   "metadata": {},
   "outputs": [
    {
     "name": "stdout",
     "output_type": "stream",
     "text": [
      "All the stop-words have been removed!!!\n"
     ]
    },
    {
     "name": "stderr",
     "output_type": "stream",
     "text": [
      "[nltk_data] Downloading package stopwords to C:\\Users\\TEJAS\n",
      "[nltk_data]     POTE\\AppData\\Roaming\\nltk_data...\n",
      "[nltk_data]   Package stopwords is already up-to-date!\n"
     ]
    }
   ],
   "source": [
    "#Removing stopwords from the file\n",
    "import nltk\n",
    "nltk.download('stopwords')\n",
    "from nltk.corpus import stopwords\n",
    "stop_words = stopwords.words('english')\n",
    "bag_of_words = [[word for word in example if word not in stop_words] for example in bag_of_words]\n",
    "print(\"All the stop-words have been removed!!!\")"
   ]
  },
  {
   "cell_type": "code",
   "execution_count": 6,
   "metadata": {},
   "outputs": [],
   "source": [
    "from nltk.stem import PorterStemmer\n",
    "ps = PorterStemmer()\n",
    "bag_of_words = [[ps.stem(word) for word in example] for example in bag_of_words]"
   ]
  },
  {
   "cell_type": "code",
   "execution_count": 7,
   "metadata": {},
   "outputs": [
    {
     "name": "stdout",
     "output_type": "stream",
     "text": [
      "The dictionary of words for each class was created\n"
     ]
    }
   ],
   "source": [
    "#Creating a dictionary of words for each news category\n",
    "covid = {}\n",
    "science = {}\n",
    "business = {}\n",
    "sports = {}\n",
    "\n",
    "#Keeping a count of no of training examples in each category\n",
    "n_covid = 0\n",
    "n_science = 0\n",
    "n_business = 0\n",
    "n_sports = 0\n",
    "for i in range(sentences.shape[0]):\n",
    "    if sentences[i,0] == 'covid':\n",
    "        n_covid += 1\n",
    "        words = bag_of_words[i]\n",
    "        for word in words:\n",
    "            if word not in covid.keys():\n",
    "                covid.update({word:1})\n",
    "            else:\n",
    "                covid[word]+=1\n",
    "    elif sentences[i,0] == 'science':\n",
    "        n_science += 1\n",
    "        words = bag_of_words[i]\n",
    "        for word in words:\n",
    "            if word not in science.keys():\n",
    "                science.update({word:1})\n",
    "            else:\n",
    "                science[word]+=1\n",
    "    elif sentences[i,0] == 'business':\n",
    "        n_business += 1\n",
    "        words = bag_of_words[i]\n",
    "        for word in words:\n",
    "            if word not in business.keys():\n",
    "                business.update({word:1})\n",
    "            else:\n",
    "                business[word]+=1\n",
    "    elif sentences[i,0] == 'sports':\n",
    "        n_sports += 1\n",
    "        words = bag_of_words[i]\n",
    "        for word in words:\n",
    "            if word not in sports.keys():\n",
    "                sports.update({word:1})\n",
    "            else:\n",
    "                sports[word]+=1\n",
    "print('The dictionary of words for each class was created')"
   ]
  },
  {
   "cell_type": "code",
   "execution_count": 8,
   "metadata": {},
   "outputs": [
    {
     "name": "stdout",
     "output_type": "stream",
     "text": [
      "The prior probabilities were evaluated\n"
     ]
    }
   ],
   "source": [
    "#Calculating the prior probability\n",
    "pp_covid = n_covid/sentences.shape[0]\n",
    "pp_science = n_science/sentences.shape[0]\n",
    "pp_sports = n_sports/sentences.shape[0]\n",
    "pp_business = n_business/sentences.shape[0]\n",
    "\n",
    "print('The prior probabilities were evaluated')"
   ]
  },
  {
   "cell_type": "code",
   "execution_count": 9,
   "metadata": {},
   "outputs": [
    {
     "name": "stdout",
     "output_type": "stream",
     "text": [
      "Accuracy of Prediction : 100.0%\n"
     ]
    }
   ],
   "source": [
    "#Implementing Naive Bayes using our vocabulary on the test set\n",
    "test_data = pd.read_csv('testdata.csv')\n",
    "sample_sent = test_data.iloc[:, 0:2].values\n",
    "\n",
    "class_cond_prob = []\n",
    "post_dist_list = []\n",
    "predicted_label = []\n",
    "labels = {0:'covid', 1:'sports', 2:'business', 3:'science'}\n",
    "\n",
    "sample_sent[:, 1] = [sentence.split() for sentence in sample_sent[:, 1]]\n",
    "sample_sent[:, 1] = [[word.translate(table) for word in example] for example in sample_sent[:, 1]]\n",
    "sample_sent[:, 1] = [[word.lower() for word in example] for example in sample_sent[:, 1]]\n",
    "sample_sent[:, 1] = [[word for word in example if word not in stop_words] for example in sample_sent[:, 1]]\n",
    "sample_sent[:, 1] = [[ps.stem(word) for word in example] for example in sample_sent[:, 1]]\n",
    "for i in range(sample_sent.shape[0]):\n",
    "    p_covid = 1\n",
    "    p_sports = 1\n",
    "    p_science = 1\n",
    "    p_business = 1\n",
    "    words = sample_sent[i,1]\n",
    "    for word in words:\n",
    "        if word in covid.keys():\n",
    "            p_covid *= covid[word]/sum(covid.values())\n",
    "        else:\n",
    "            p_covid *= 0.001\n",
    "        if word in sports.keys():\n",
    "            p_sports *= sports[word]/sum(sports.values()) \n",
    "        else:\n",
    "            p_sports *= 0.001\n",
    "        if word in business.keys():\n",
    "            p_business *= business[word]/sum(business.values()) \n",
    "        else:\n",
    "            p_business *= 0.001\n",
    "        if word in science.keys():\n",
    "            p_science *= science[word]/sum(science.values())\n",
    "        else:\n",
    "            p_science *= 0.001\n",
    "    class_cond_prob.append([p_covid, p_sports, p_business, p_science])\n",
    "    post_dist = [p_covid*pp_covid, p_sports*pp_sports, p_business*pp_business, p_science*pp_science]\n",
    "    post_dist_list.append(post_dist)\n",
    "    max_prob = max(post_dist)\n",
    "    index = post_dist.index(max_prob)\n",
    "    predicted_label.append(labels[index])\n",
    "correct_pred = 0\n",
    "for i in range(len(predicted_label)):\n",
    "    if predicted_label[i] == sample_sent[i,0]:\n",
    "        correct_pred += 1\n",
    "test_data['Predicted Label'] = predicted_label\n",
    "print('Accuracy of Prediction : {}%'.format((correct_pred/len(predicted_label))*100))"
   ]
  },
  {
   "cell_type": "code",
   "execution_count": null,
   "metadata": {},
   "outputs": [],
   "source": []
  }
 ],
 "metadata": {
  "kernelspec": {
   "display_name": "Python 3",
   "language": "python",
   "name": "python3"
  },
  "language_info": {
   "codemirror_mode": {
    "name": "ipython",
    "version": 3
   },
   "file_extension": ".py",
   "mimetype": "text/x-python",
   "name": "python",
   "nbconvert_exporter": "python",
   "pygments_lexer": "ipython3",
   "version": "3.8.5"
  }
 },
 "nbformat": 4,
 "nbformat_minor": 4
}
